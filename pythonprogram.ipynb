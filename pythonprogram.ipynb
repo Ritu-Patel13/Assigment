{
 "cells": [
  {
   "cell_type": "markdown",
   "metadata": {},
   "source": [
    "1. Hello World"
   ]
  },
  {
   "cell_type": "code",
   "execution_count": 3,
   "metadata": {},
   "outputs": [
    {
     "name": "stdout",
     "output_type": "stream",
     "text": [
      "Anything you find cool\n"
     ]
    }
   ],
   "source": [
    "print(\"Anything you find cool\")"
   ]
  },
  {
   "cell_type": "markdown",
   "metadata": {},
   "source": [
    "2. Add Numbers and Concatenate Strings"
   ]
  },
  {
   "cell_type": "code",
   "execution_count": 4,
   "metadata": {},
   "outputs": [
    {
     "name": "stdout",
     "output_type": "stream",
     "text": [
      "Sum: 30\n"
     ]
    }
   ],
   "source": [
    " # Write a program to add two numbers and print the result\n",
    "\n",
    "num1 = 10\n",
    "num2 = 20\n",
    "print(\"Sum:\", num1 + num2)\n"
   ]
  },
  {
   "cell_type": "code",
   "execution_count": 5,
   "metadata": {},
   "outputs": [
    {
     "name": "stdout",
     "output_type": "stream",
     "text": [
      "Concatenated String: Hello World\n"
     ]
    }
   ],
   "source": [
    "# Write a program to concatenate two strings and print the result\n",
    "str1 = \"Hello\"\n",
    "str2 = \"World\"\n",
    "print(\"Concatenated String:\", str1 + \" \" + str2)\n",
    "\n"
   ]
  },
  {
   "cell_type": "code",
   "execution_count": 6,
   "metadata": {},
   "outputs": [
    {
     "name": "stdout",
     "output_type": "stream",
     "text": [
      "String and Number: Ritu is 20 years old.\n"
     ]
    }
   ],
   "source": [
    "# Write a program to concatenate a string and a number and print the result\n",
    "name = \"Ritu\"\n",
    "age = 20\n",
    "print(\"String and Number:\", name + \" is \" + str(age) + \" years old.\")\n"
   ]
  },
  {
   "cell_type": "markdown",
   "metadata": {},
   "source": [
    "3. If-Else Statements"
   ]
  },
  {
   "cell_type": "code",
   "execution_count": 1,
   "metadata": {},
   "outputs": [
    {
     "name": "stdout",
     "output_type": "stream",
     "text": [
      "Positive\n"
     ]
    }
   ],
   "source": [
    "\"\"\" Write a Python program to check if a number is positive, negative, or zero\n",
    "using an if-else statement\"\"\"\n",
    "\n",
    "num = int(input(\"Enter a number: \"))\n",
    "if num > 0:\n",
    "    print(\"Positive\")\n",
    "elif num < 0:\n",
    "    print(\"Negative\")\n",
    "else:\n",
    "    print(\"Zero\")\n"
   ]
  },
  {
   "cell_type": "code",
   "execution_count": 2,
   "metadata": {},
   "outputs": [
    {
     "name": "stdout",
     "output_type": "stream",
     "text": [
      "Even\n"
     ]
    }
   ],
   "source": [
    "# Write a program to check if a given number is odd or even\n",
    "\n",
    "num = int(input(\"Enter a number: \"))\n",
    "if num % 2 == 0:\n",
    "    print(\"Even\")\n",
    "else:\n",
    "    print(\"Odd\")\n",
    "\n"
   ]
  },
  {
   "cell_type": "markdown",
   "metadata": {},
   "source": [
    "4. Loops"
   ]
  },
  {
   "cell_type": "code",
   "execution_count": 3,
   "metadata": {},
   "outputs": [
    {
     "name": "stdout",
     "output_type": "stream",
     "text": [
      "1\n",
      "2\n",
      "3\n",
      "4\n",
      "5\n",
      "6\n",
      "7\n",
      "8\n",
      "9\n",
      "10\n"
     ]
    }
   ],
   "source": [
    "# Write a program to print numbers from 1 to 10 using a for loop\n",
    "\n",
    "for i in range(1, 11):\n",
    "    print(i)\n"
   ]
  },
  {
   "cell_type": "code",
   "execution_count": 4,
   "metadata": {},
   "outputs": [
    {
     "name": "stdout",
     "output_type": "stream",
     "text": [
      "1\n",
      "2\n",
      "3\n",
      "4\n",
      "5\n",
      "6\n",
      "7\n",
      "8\n",
      "9\n",
      "10\n"
     ]
    }
   ],
   "source": [
    "# Write a program to print numbers from 1 to 10 using a while loop\n",
    "\n",
    "i = 1\n",
    "while i <= 10:\n",
    "    print(i)\n",
    "    i += 1\n"
   ]
  },
  {
   "cell_type": "code",
   "execution_count": 5,
   "metadata": {},
   "outputs": [
    {
     "name": "stdout",
     "output_type": "stream",
     "text": [
      "Sum: 5050\n"
     ]
    }
   ],
   "source": [
    "# 3 Write a program to calculate the sum of numbers from 1 to 100 using a loop\n",
    "\n",
    "total = 0\n",
    "for i in range(1, 101):\n",
    "    total += i\n",
    "print(\"Sum:\", total)\n"
   ]
  },
  {
   "cell_type": "markdown",
   "metadata": {},
   "source": [
    "5. Data Structures"
   ]
  },
  {
   "cell_type": "code",
   "execution_count": 6,
   "metadata": {},
   "outputs": [
    {
     "name": "stdout",
     "output_type": "stream",
     "text": [
      "Largest: 8\n",
      "Smallest: 2\n"
     ]
    }
   ],
   "source": [
    "\"\"\" 1 Create a list of 5 numbers. Write a program to find the largest and smallest\n",
    "numbers in the list\"\"\"\n",
    "\n",
    "nums = [3, 5, 7, 2, 8]\n",
    "print(\"Largest:\", max(nums))\n",
    "print(\"Smallest:\", min(nums))\n",
    "\n"
   ]
  },
  {
   "cell_type": "code",
   "execution_count": 7,
   "metadata": {},
   "outputs": [
    {
     "name": "stdout",
     "output_type": "stream",
     "text": [
      "Value for key age: 20\n"
     ]
    }
   ],
   "source": [
    "\"\"\" Create a dictionary with at least 3 key-value pairs. Write a program to retrieve\n",
    "the value of a given key\"\"\"\n",
    "\n",
    "info = {\"name\": \"Ram\", \"age\": 20, \"city\": \"Patiala\"}\n",
    "key = \"age\"\n",
    "print(\"Value for key\", key + \":\", info.get(key))\n",
    "\n"
   ]
  },
  {
   "cell_type": "code",
   "execution_count": 8,
   "metadata": {},
   "outputs": [
    {
     "name": "stdout",
     "output_type": "stream",
     "text": [
      "Ascending Order: [1, 3, 4, 7, 9]\n",
      "Descending Order: [9, 7, 4, 3, 1]\n"
     ]
    }
   ],
   "source": [
    "# Write a program to sort a list of numbers in ascending and descending order\n",
    "\n",
    "nums = [4, 1, 7, 3, 9]\n",
    "print(\"Ascending Order:\", sorted(nums))\n",
    "print(\"Descending Order:\", sorted(nums, reverse=True))\n"
   ]
  },
  {
   "cell_type": "code",
   "execution_count": 9,
   "metadata": {},
   "outputs": [
    {
     "name": "stdout",
     "output_type": "stream",
     "text": [
      "Merged Dictionary: {'a': 1, 'b': 2, 'c': 3, 'd': 4}\n"
     ]
    }
   ],
   "source": [
    "# Write a program to merge two dictionaries into one.\n",
    "\n",
    "dict1 = {\"a\": 1, \"b\": 2}\n",
    "dict2 = {\"c\": 3, \"d\": 4}\n",
    "merged = {**dict1, **dict2}\n",
    "print(\"Merged Dictionary:\", merged)\n"
   ]
  },
  {
   "cell_type": "markdown",
   "metadata": {},
   "source": [
    "6. Strings"
   ]
  },
  {
   "cell_type": "code",
   "execution_count": 11,
   "metadata": {},
   "outputs": [
    {
     "name": "stdout",
     "output_type": "stream",
     "text": [
      "Number of vowels: 4\n"
     ]
    }
   ],
   "source": [
    "# Write a program to count the number of vowels in a given string\n",
    "\n",
    "string = \"hello world\"\n",
    "vowels = \"aeiou AEIOU\"\n",
    "count = sum(1 for char in string if char in vowels)\n",
    "print(\"Number of vowels:\", count)\n"
   ]
  },
  {
   "cell_type": "code",
   "execution_count": 12,
   "metadata": {},
   "outputs": [
    {
     "name": "stdout",
     "output_type": "stream",
     "text": [
      "Reversed String: nohtyP\n"
     ]
    }
   ],
   "source": [
    "# Write a program to reverse a string and print it\n",
    "\n",
    "string = \"Python\"\n",
    "print(\"Reversed String:\", string[::-1])\n",
    "\n"
   ]
  },
  {
   "cell_type": "code",
   "execution_count": 13,
   "metadata": {},
   "outputs": [
    {
     "name": "stdout",
     "output_type": "stream",
     "text": [
      "Palindrome\n"
     ]
    }
   ],
   "source": [
    "# Write a program to check if a string is a palindrome.\n",
    "\n",
    "string = \"madam\"\n",
    "if string == string[::-1]:\n",
    "    print(\"Palindrome\")\n",
    "else:\n",
    "    print(\"Not a Palindrome\")\n"
   ]
  },
  {
   "cell_type": "markdown",
   "metadata": {},
   "source": [
    "7. File Handling"
   ]
  },
  {
   "cell_type": "code",
   "execution_count": 14,
   "metadata": {},
   "outputs": [
    {
     "name": "stdout",
     "output_type": "stream",
     "text": [
      "This is a test file.\n"
     ]
    }
   ],
   "source": [
    "\"\"\" Write a program to create a text file, write some text into it, and then read and\n",
    "print the content\"\"\"\n",
    "\n",
    "with open(\"example.txt\", \"w\") as file:\n",
    "    file.write(\"This is a test file.\")\n",
    "with open(\"example.txt\", \"r\") as file:\n",
    "    content = file.read()\n",
    "    print(content)\n"
   ]
  },
  {
   "cell_type": "code",
   "execution_count": 1,
   "metadata": {},
   "outputs": [
    {
     "name": "stdout",
     "output_type": "stream",
     "text": [
      "This is a test file.\n",
      "Appended text.\n"
     ]
    }
   ],
   "source": [
    "\n",
    "\"\"\"Write a program to append text to an existing file and print the updated\n",
    "content.\"\"\"\n",
    "\n",
    "with open(\"example.txt\", \"a\") as file:\n",
    "    file.write(\"\\nAppended text.\")\n",
    "with open(\"example.txt\", \"r\") as file:\n",
    "    print(file.read())\n"
   ]
  },
  {
   "cell_type": "code",
   "execution_count": 2,
   "metadata": {},
   "outputs": [
    {
     "name": "stdout",
     "output_type": "stream",
     "text": [
      "Number of lines: 2\n"
     ]
    }
   ],
   "source": [
    "#3 Write a program to count the number of lines in a text file\n",
    "\n",
    "with open(\"example.txt\", \"r\") as file:\n",
    "    lines = file.readlines()\n",
    "    print(\"Number of lines:\", len(lines))\n"
   ]
  },
  {
   "cell_type": "markdown",
   "metadata": {},
   "source": [
    "8. Exception Handling"
   ]
  },
  {
   "cell_type": "code",
   "execution_count": 3,
   "metadata": {},
   "outputs": [
    {
     "name": "stdout",
     "output_type": "stream",
     "text": [
      "Division by zero is not allowed.\n"
     ]
    }
   ],
   "source": [
    "# Write a program to handle division by zero using a try-except block.\n",
    "\n",
    "try:\n",
    "    result = 10 / 0\n",
    "except ZeroDivisionError:\n",
    "    print(\"Division by zero is not allowed.\")\n"
   ]
  },
  {
   "cell_type": "code",
   "execution_count": 4,
   "metadata": {},
   "outputs": [
    {
     "name": "stdout",
     "output_type": "stream",
     "text": [
      "Invalid input! Please enter a number.\n"
     ]
    }
   ],
   "source": [
    "\"\"\" Write a program to handle invalid input (e.g., when the user enters a string\n",
    "instead of a number).\"\"\"\n",
    "\n",
    "try:\n",
    "    num = int(input(\"Enter a number: \"))\n",
    "    print(\"You entered:\", num)\n",
    "except ValueError:\n",
    "    print(\"Invalid input! Please enter a number.\")\n"
   ]
  },
  {
   "cell_type": "code",
   "execution_count": 7,
   "metadata": {},
   "outputs": [
    {
     "name": "stdout",
     "output_type": "stream",
     "text": [
      "This block always executes.\n"
     ]
    }
   ],
   "source": [
    "# Write a program to demonstrate the use of finally in exception handling.\n",
    "\n",
    "try:\n",
    "    num = int(input(\"Enter a number: \"))\n",
    "finally:\n",
    "    print(\"This block always executes.\")\n"
   ]
  },
  {
   "cell_type": "markdown",
   "metadata": {},
   "source": [
    "9. Random Numbers"
   ]
  },
  {
   "cell_type": "code",
   "execution_count": 11,
   "metadata": {},
   "outputs": [
    {
     "name": "stdout",
     "output_type": "stream",
     "text": [
      "5\n",
      "98\n",
      "97\n",
      "65\n",
      "61\n"
     ]
    }
   ],
   "source": [
    "# Write a program to generate 5 random numbers between 1 and 100 and print\n",
    "# them.\n",
    "\n",
    "import random\n",
    "for _ in range(5):\n",
    "    print(random.randint(1, 100))\n",
    "\n"
   ]
  },
  {
   "cell_type": "code",
   "execution_count": 14,
   "metadata": {},
   "outputs": [
    {
     "name": "stdout",
     "output_type": "stream",
     "text": [
      "44 is Not Prime\n"
     ]
    }
   ],
   "source": [
    "# Write a program to generate a random number and check if it is prime\n",
    "\n",
    "import random\n",
    "num = random.randint(1, 100)\n",
    "if num > 1 and all(num % i != 0 for i in range(2, int(num ** 0.5) + 1)):\n",
    "    print(num, \"is Prime\")\n",
    "else:\n",
    "    print(num, \"is Not Prime\")\n"
   ]
  },
  {
   "cell_type": "code",
   "execution_count": 19,
   "metadata": {},
   "outputs": [
    {
     "name": "stdout",
     "output_type": "stream",
     "text": [
      "Rolled: 3\n"
     ]
    }
   ],
   "source": [
    "# Write a program to simulate rolling a six-sided die.\n",
    "\n",
    "print(\"Rolled:\", random.randint(1, 6))\n"
   ]
  },
  {
   "cell_type": "code",
   "execution_count": 20,
   "metadata": {},
   "outputs": [
    {
     "name": "stdout",
     "output_type": "stream",
     "text": [
      "[5, 3, 1, 2, 4]\n"
     ]
    }
   ],
   "source": [
    "# Write a program to shuffle a list of numbers\n",
    "\n",
    "nums = [1, 2, 3, 4, 5]\n",
    "random.shuffle(nums)\n",
    "print(nums)\n"
   ]
  },
  {
   "cell_type": "code",
   "execution_count": 26,
   "metadata": {},
   "outputs": [
    {
     "name": "stdout",
     "output_type": "stream",
     "text": [
      "cherry\n"
     ]
    }
   ],
   "source": [
    "# Write a program to randomly select an item from a list\n",
    "\n",
    "items = [\"apple\", \"banana\", \"cherry\"]\n",
    "print(random.choice(items))\n"
   ]
  },
  {
   "cell_type": "code",
   "execution_count": 28,
   "metadata": {},
   "outputs": [
    {
     "name": "stdout",
     "output_type": "stream",
     "text": [
      "Password: ECROXlAh\n"
     ]
    }
   ],
   "source": [
    "# Write a program to generate a random password of given length\n",
    "\n",
    "import string\n",
    "length = 8\n",
    "password = ''.join(random.choices(string.ascii_letters + string.digits, k=length))\n",
    "print(\"Password:\", password)\n",
    "\n"
   ]
  },
  {
   "cell_type": "code",
   "execution_count": 32,
   "metadata": {},
   "outputs": [
    {
     "name": "stdout",
     "output_type": "stream",
     "text": [
      "Random Card: 6 of Diamonds\n"
     ]
    }
   ],
   "source": [
    "# Write a program to pick a random card from a standard deck of 52 cards.\n",
    "\n",
    "suits = [\"Hearts\", \"Diamonds\", \"Clubs\", \"Spades\"]\n",
    "ranks = [\"2\", \"3\", \"4\", \"5\", \"6\", \"7\", \"8\", \"9\", \"10\", \"Jack\", \"Queen\", \"King\", \"Ace\"]\n",
    "print(\"Random Card:\", random.choice(ranks) + \" of \" + random.choice(suits))\n"
   ]
  },
  {
   "cell_type": "markdown",
   "metadata": {},
   "source": [
    "10. Command Line Arguments\n"
   ]
  },
  {
   "cell_type": "code",
   "execution_count": 43,
   "metadata": {},
   "outputs": [
    {
     "name": "stdout",
     "output_type": "stream",
     "text": [
      "Usage: python add_numbers.py <num1> <num2>\n"
     ]
    },
    {
     "ename": "SystemExit",
     "evalue": "1",
     "output_type": "error",
     "traceback": [
      "An exception has occurred, use %tb to see the full traceback.\n",
      "\u001b[1;31mSystemExit\u001b[0m\u001b[1;31m:\u001b[0m 1\n"
     ]
    }
   ],
   "source": [
    "\"\"\"Write a program to accept two numbers as command-line arguments, add\n",
    "them, and print the result.\"\"\"\n",
    "\n",
    "import sys\n",
    "\n",
    "# Check if the correct number of arguments is provided\n",
    "if len(sys.argv) != 3:\n",
    "    print(\"Usage: python add_numbers.py <num1> <num2>\")\n",
    "    sys.exit(1)\n",
    "\n",
    "try:\n",
    "    # Parse the command-line arguments\n",
    "    num1 = float(sys.argv[1])\n",
    "    num2 = float(sys.argv[2])\n",
    "\n",
    "    result = num1 + num2\n",
    "    print(f\"The sum of {num1} and {num2} is {result}\")\n",
    "\n",
    "except ValueError:\n",
    "    print(\"Please provide valid numbers.\")\n",
    "\n"
   ]
  },
  {
   "cell_type": "code",
   "execution_count": 34,
   "metadata": {},
   "outputs": [
    {
     "name": "stdout",
     "output_type": "stream",
     "text": [
      "Length: 104\n"
     ]
    }
   ],
   "source": [
    "\"\"\" Write a program to accept a string as a command-line argument and print its\n",
    "length\"\"\"\n",
    "\n",
    "import sys\n",
    "print(\"Length:\", len(sys.argv[1]))\n"
   ]
  },
  {
   "cell_type": "markdown",
   "metadata": {},
   "source": [
    "11. Use of Libraries\n"
   ]
  },
  {
   "cell_type": "code",
   "execution_count": 35,
   "metadata": {},
   "outputs": [
    {
     "name": "stdout",
     "output_type": "stream",
     "text": [
      "Square Root: 4.0\n"
     ]
    }
   ],
   "source": [
    "# Write a program to use the math library to calculate the square root of a given\n",
    "# number\n",
    "\n",
    "import math\n",
    "num = 16\n",
    "print(\"Square Root:\", math.sqrt(num))\n",
    "\n"
   ]
  },
  {
   "cell_type": "code",
   "execution_count": 36,
   "metadata": {},
   "outputs": [
    {
     "name": "stdout",
     "output_type": "stream",
     "text": [
      "Current Date and Time: 2025-01-12 21:07:43.418981\n"
     ]
    }
   ],
   "source": [
    "# Write a program to use the datetime library to print the current date and time.\n",
    "\n",
    "import datetime\n",
    "print(\"Current Date and Time:\", datetime.datetime.now())\n"
   ]
  },
  {
   "cell_type": "code",
   "execution_count": 38,
   "metadata": {},
   "outputs": [
    {
     "name": "stdout",
     "output_type": "stream",
     "text": [
      "Files in Current Directory: ['example.txt', 'pythonprogram.ipynb']\n"
     ]
    }
   ],
   "source": [
    " # Write a program to use the os library to list all files in the current directory \n",
    "import os\n",
    "print(\"Files in Current Directory:\", os.listdir())\n"
   ]
  }
 ],
 "metadata": {
  "kernelspec": {
   "display_name": "base",
   "language": "python",
   "name": "python3"
  },
  "language_info": {
   "codemirror_mode": {
    "name": "ipython",
    "version": 3
   },
   "file_extension": ".py",
   "mimetype": "text/x-python",
   "name": "python",
   "nbconvert_exporter": "python",
   "pygments_lexer": "ipython3",
   "version": "3.12.7"
  }
 },
 "nbformat": 4,
 "nbformat_minor": 2
}
